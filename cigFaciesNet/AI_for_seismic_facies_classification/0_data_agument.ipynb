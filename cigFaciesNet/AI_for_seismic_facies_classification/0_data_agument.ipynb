{
 "cells": [
  {
   "cell_type": "code",
   "execution_count": 1,
   "metadata": {},
   "outputs": [],
   "source": [
    "import os\n",
    "import copy\n",
    "import torch\n",
    "import random\n",
    "import torchvision\n",
    "import numpy as np\n",
    "import torch.nn as nn\n",
    "from torch.nn import Parameter\n",
    "from scipy import interpolate\n",
    "import matplotlib.pyplot as plt"
   ]
  },
  {
   "cell_type": "code",
   "execution_count": 20,
   "metadata": {},
   "outputs": [],
   "source": [
    "def dataupsample_2d(x,axis,num_up,method = 'nearest'):\n",
    "  #x = np.transpose(x)\n",
    "    if axis == 0:\n",
    "        x1 = np.linspace(0,x.shape[0]-1,x.shape[0])\n",
    "        x_new = np.linspace(0,x.shape[0]-1,num_up)\n",
    "        gxu = np.zeros((num_up,x.shape[1]),dtype=np.single)\n",
    "        for i in range(x.shape[1]):\n",
    "            f = interpolate.interp1d(x1,x[:,i],kind = method)\n",
    "            gxu[:,i] = f(x_new)\n",
    "    elif axis == 1:\n",
    "        x1 = np.linspace(0,x.shape[1]-1,x.shape[1])\n",
    "        x_new = np.linspace(0,x.shape[1]-1,num_up)\n",
    "        gxu = np.zeros((x.shape[0],num_up),dtype=np.single)\n",
    "        for i in range(x.shape[0]):\n",
    "            f = interpolate.interp1d(x1,x[i,:],kind = method)\n",
    "            gxu[i,:] = f(x_new)\n",
    "    return gxu\n",
    "\n",
    "def data_augment(fx):\n",
    "    method = random.sample([0,1],1)[0]\n",
    "    if method==0:\n",
    "        crop_width = int(128*round(random.uniform(0.7,0.9),2))\n",
    "        x1 = int(random.uniform(0,128-crop_width))\n",
    "        fx = fx[:,x1:x1+crop_width]\n",
    "        fx = dataupsample_2d(x=fx,axis=1,num_up=128,method='nearest')\n",
    "    elif method==1:\n",
    "        crop_width = int(128*round(random.uniform(0.7,0.9),2))\n",
    "        x1 = int(random.uniform(0,128-crop_width))\n",
    "        fx = fx[:,x1:x1+crop_width]\n",
    "        fx = dataupsample_2d(x=fx,axis=1,num_up=128,method='nearest')\n",
    "        fx = np.flip(fx,1)\n",
    "    return fx    "
   ]
  },
  {
   "cell_type": "code",
   "execution_count": 21,
   "metadata": {},
   "outputs": [],
   "source": [
    "classes = [\"parallel\",\"clinoform\",\"fill\",\"hummocky\",\"chaotic\"]\n",
    "nums = [2000,1500,1500,1500,1500]\n",
    "\n",
    "for ip in range(5):\n",
    "    ci = classes[ip]\n",
    "    ni = nums[ip]\n",
    "    for nii in range(ni):\n",
    "        read_dir = \"../datasets/\"+ci+\"_classification/\"+str(nii)+\".dat\"\n",
    "        save_dir = \"./datasets/\"+ci+\"_classification/\"\n",
    "        fx = np.fromfile(read_dir,dtype=np.int32).reshape(128,128).T\n",
    "        np.save(save_dir + str(nii) + \".npy\",fx)\n",
    "        fx1 = data_augment(fx).astype(np.int32)\n",
    "        np.save(save_dir + str(nums[ip]+nii) + \".npy\",fx1)"
   ]
  },
  {
   "cell_type": "code",
   "execution_count": null,
   "metadata": {},
   "outputs": [],
   "source": []
  }
 ],
 "metadata": {
  "kernelspec": {
   "display_name": "Python 3",
   "language": "python",
   "name": "python3"
  },
  "language_info": {
   "codemirror_mode": {
    "name": "ipython",
    "version": 3
   },
   "file_extension": ".py",
   "mimetype": "text/x-python",
   "name": "python",
   "nbconvert_exporter": "python",
   "pygments_lexer": "ipython3",
   "version": "3.7.0"
  }
 },
 "nbformat": 4,
 "nbformat_minor": 5
}
